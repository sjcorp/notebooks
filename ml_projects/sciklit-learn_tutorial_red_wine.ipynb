{
 "cells": [
  {
   "cell_type": "code",
   "execution_count": 2,
   "metadata": {
    "colab": {
     "base_uri": "https://localhost:8080/",
     "height": 72
    },
    "colab_type": "code",
    "executionInfo": {
     "elapsed": 1624,
     "status": "ok",
     "timestamp": 1599654436919,
     "user": {
      "displayName": "Saurabh Jha",
      "photoUrl": "https://lh3.googleusercontent.com/a-/AOh14Gjp2QNyeGkrUCz29EwOWrgZUFsvx_iz83c_m5BSFOI=s64",
      "userId": "08183465477202905608"
     },
     "user_tz": -330
    },
    "id": "r-xjc_Uph0XF",
    "outputId": "e7145c66-4485-4f09-ca65-bc0d0874821b"
   },
   "outputs": [],
   "source": [
    "import pandas as pd\n",
    "import seaborn as sns\n",
    "import matplotlib.pyplot as plt\n",
    "from sklearn.ensemble import RandomForestClassifier\n",
    "from sklearn.svm import SVC\n",
    "from sklearn import svm\n",
    "from sklearn.neural_network import MLPClassifier\n",
    "from sklearn.metrics import confusion_matrix, classification_report\n",
    "from sklearn.preprocessing import StandardScaler, LabelEncoder\n",
    "from sklearn.model_selection import train_test_split\n",
    "%matplotlib inline"
   ]
  },
  {
   "cell_type": "code",
   "execution_count": 3,
   "metadata": {
    "colab": {},
    "colab_type": "code",
    "executionInfo": {
     "elapsed": 2506,
     "status": "ok",
     "timestamp": 1599654437806,
     "user": {
      "displayName": "Saurabh Jha",
      "photoUrl": "https://lh3.googleusercontent.com/a-/AOh14Gjp2QNyeGkrUCz29EwOWrgZUFsvx_iz83c_m5BSFOI=s64",
      "userId": "08183465477202905608"
     },
     "user_tz": -330
    },
    "id": "2YZAd7pziw13"
   },
   "outputs": [],
   "source": [
    "# Read Data\n",
    "gdwine = 'https://drive.google.com/uc?export=download&id='+'https://drive.google.com/file/d/10YIqNrgTSXQi0cmorUq_9up2bAz40DE2/view?usp=sharing'.split('/')[-2]\n",
    "wine = pd.read_csv(gdwine)"
   ]
  },
  {
   "cell_type": "code",
   "execution_count": 4,
   "metadata": {
    "colab": {
     "base_uri": "https://localhost:8080/",
     "height": 549
    },
    "colab_type": "code",
    "executionInfo": {
     "elapsed": 2501,
     "status": "ok",
     "timestamp": 1599654437807,
     "user": {
      "displayName": "Saurabh Jha",
      "photoUrl": "https://lh3.googleusercontent.com/a-/AOh14Gjp2QNyeGkrUCz29EwOWrgZUFsvx_iz83c_m5BSFOI=s64",
      "userId": "08183465477202905608"
     },
     "user_tz": -330
    },
    "id": "SsZGLNqWjziY",
    "outputId": "1b591601-dd15-4735-f226-f25b1a3570ce"
   },
   "outputs": [
    {
     "name": "stdout",
     "output_type": "stream",
     "text": [
      "<class 'pandas.core.frame.DataFrame'>\n",
      "RangeIndex: 1599 entries, 0 to 1598\n",
      "Data columns (total 12 columns):\n",
      " #   Column                Non-Null Count  Dtype  \n",
      "---  ------                --------------  -----  \n",
      " 0   fixed acidity         1599 non-null   float64\n",
      " 1   volatile acidity      1599 non-null   float64\n",
      " 2   citric acid           1599 non-null   float64\n",
      " 3   residual sugar        1599 non-null   float64\n",
      " 4   chlorides             1599 non-null   float64\n",
      " 5   free sulfur dioxide   1599 non-null   float64\n",
      " 6   total sulfur dioxide  1599 non-null   float64\n",
      " 7   density               1599 non-null   float64\n",
      " 8   pH                    1599 non-null   float64\n",
      " 9   sulphates             1599 non-null   float64\n",
      " 10  alcohol               1599 non-null   float64\n",
      " 11  quality               1599 non-null   int64  \n",
      "dtypes: float64(11), int64(1)\n",
      "memory usage: 150.0 KB\n"
     ]
    },
    {
     "data": {
      "text/html": [
       "<div>\n",
       "<style scoped>\n",
       "    .dataframe tbody tr th:only-of-type {\n",
       "        vertical-align: middle;\n",
       "    }\n",
       "\n",
       "    .dataframe tbody tr th {\n",
       "        vertical-align: top;\n",
       "    }\n",
       "\n",
       "    .dataframe thead th {\n",
       "        text-align: right;\n",
       "    }\n",
       "</style>\n",
       "<table border=\"1\" class=\"dataframe\">\n",
       "  <thead>\n",
       "    <tr style=\"text-align: right;\">\n",
       "      <th></th>\n",
       "      <th>fixed acidity</th>\n",
       "      <th>volatile acidity</th>\n",
       "      <th>citric acid</th>\n",
       "      <th>residual sugar</th>\n",
       "      <th>chlorides</th>\n",
       "      <th>free sulfur dioxide</th>\n",
       "      <th>total sulfur dioxide</th>\n",
       "      <th>density</th>\n",
       "      <th>pH</th>\n",
       "      <th>sulphates</th>\n",
       "      <th>alcohol</th>\n",
       "      <th>quality</th>\n",
       "    </tr>\n",
       "  </thead>\n",
       "  <tbody>\n",
       "    <tr>\n",
       "      <th>0</th>\n",
       "      <td>7.4</td>\n",
       "      <td>0.70</td>\n",
       "      <td>0.00</td>\n",
       "      <td>1.9</td>\n",
       "      <td>0.076</td>\n",
       "      <td>11.0</td>\n",
       "      <td>34.0</td>\n",
       "      <td>0.9978</td>\n",
       "      <td>3.51</td>\n",
       "      <td>0.56</td>\n",
       "      <td>9.4</td>\n",
       "      <td>5</td>\n",
       "    </tr>\n",
       "    <tr>\n",
       "      <th>1</th>\n",
       "      <td>7.8</td>\n",
       "      <td>0.88</td>\n",
       "      <td>0.00</td>\n",
       "      <td>2.6</td>\n",
       "      <td>0.098</td>\n",
       "      <td>25.0</td>\n",
       "      <td>67.0</td>\n",
       "      <td>0.9968</td>\n",
       "      <td>3.20</td>\n",
       "      <td>0.68</td>\n",
       "      <td>9.8</td>\n",
       "      <td>5</td>\n",
       "    </tr>\n",
       "    <tr>\n",
       "      <th>2</th>\n",
       "      <td>7.8</td>\n",
       "      <td>0.76</td>\n",
       "      <td>0.04</td>\n",
       "      <td>2.3</td>\n",
       "      <td>0.092</td>\n",
       "      <td>15.0</td>\n",
       "      <td>54.0</td>\n",
       "      <td>0.9970</td>\n",
       "      <td>3.26</td>\n",
       "      <td>0.65</td>\n",
       "      <td>9.8</td>\n",
       "      <td>5</td>\n",
       "    </tr>\n",
       "    <tr>\n",
       "      <th>3</th>\n",
       "      <td>11.2</td>\n",
       "      <td>0.28</td>\n",
       "      <td>0.56</td>\n",
       "      <td>1.9</td>\n",
       "      <td>0.075</td>\n",
       "      <td>17.0</td>\n",
       "      <td>60.0</td>\n",
       "      <td>0.9980</td>\n",
       "      <td>3.16</td>\n",
       "      <td>0.58</td>\n",
       "      <td>9.8</td>\n",
       "      <td>6</td>\n",
       "    </tr>\n",
       "    <tr>\n",
       "      <th>4</th>\n",
       "      <td>7.4</td>\n",
       "      <td>0.70</td>\n",
       "      <td>0.00</td>\n",
       "      <td>1.9</td>\n",
       "      <td>0.076</td>\n",
       "      <td>11.0</td>\n",
       "      <td>34.0</td>\n",
       "      <td>0.9978</td>\n",
       "      <td>3.51</td>\n",
       "      <td>0.56</td>\n",
       "      <td>9.4</td>\n",
       "      <td>5</td>\n",
       "    </tr>\n",
       "  </tbody>\n",
       "</table>\n",
       "</div>"
      ],
      "text/plain": [
       "   fixed acidity  volatile acidity  citric acid  residual sugar  chlorides  \\\n",
       "0            7.4              0.70         0.00             1.9      0.076   \n",
       "1            7.8              0.88         0.00             2.6      0.098   \n",
       "2            7.8              0.76         0.04             2.3      0.092   \n",
       "3           11.2              0.28         0.56             1.9      0.075   \n",
       "4            7.4              0.70         0.00             1.9      0.076   \n",
       "\n",
       "   free sulfur dioxide  total sulfur dioxide  density    pH  sulphates  \\\n",
       "0                 11.0                  34.0   0.9978  3.51       0.56   \n",
       "1                 25.0                  67.0   0.9968  3.20       0.68   \n",
       "2                 15.0                  54.0   0.9970  3.26       0.65   \n",
       "3                 17.0                  60.0   0.9980  3.16       0.58   \n",
       "4                 11.0                  34.0   0.9978  3.51       0.56   \n",
       "\n",
       "   alcohol  quality  \n",
       "0      9.4        5  \n",
       "1      9.8        5  \n",
       "2      9.8        5  \n",
       "3      9.8        6  \n",
       "4      9.4        5  "
      ]
     },
     "execution_count": 4,
     "metadata": {},
     "output_type": "execute_result"
    }
   ],
   "source": [
    "# View Data\n",
    "wine.info()\n",
    "wine.describe()\n",
    "wine.isnull().sum()\n",
    "wine.head()"
   ]
  },
  {
   "cell_type": "code",
   "execution_count": 5,
   "metadata": {
    "colab": {
     "base_uri": "https://localhost:8080/",
     "height": 52
    },
    "colab_type": "code",
    "executionInfo": {
     "elapsed": 2496,
     "status": "ok",
     "timestamp": 1599654437808,
     "user": {
      "displayName": "Saurabh Jha",
      "photoUrl": "https://lh3.googleusercontent.com/a-/AOh14Gjp2QNyeGkrUCz29EwOWrgZUFsvx_iz83c_m5BSFOI=s64",
      "userId": "08183465477202905608"
     },
     "user_tz": -330
    },
    "id": "PkaOyZbhlFwB",
    "outputId": "91354038-159b-4a4e-eec8-fcabaee69404"
   },
   "outputs": [
    {
     "data": {
      "text/plain": [
       "[bad, good]\n",
       "Categories (2, object): [bad < good]"
      ]
     },
     "execution_count": 5,
     "metadata": {},
     "output_type": "execute_result"
    }
   ],
   "source": [
    "# Data Pre Processing\n",
    "bins = (2, 6.5, 8)\n",
    "group_names = ['bad', 'good']\n",
    "wine['quality'] = pd.cut(wine['quality'], bins = bins, labels = group_names)\n",
    "wine['quality'].unique()"
   ]
  },
  {
   "cell_type": "code",
   "execution_count": 6,
   "metadata": {
    "colab": {},
    "colab_type": "code",
    "executionInfo": {
     "elapsed": 2495,
     "status": "ok",
     "timestamp": 1599654437809,
     "user": {
      "displayName": "Saurabh Jha",
      "photoUrl": "https://lh3.googleusercontent.com/a-/AOh14Gjp2QNyeGkrUCz29EwOWrgZUFsvx_iz83c_m5BSFOI=s64",
      "userId": "08183465477202905608"
     },
     "user_tz": -330
    },
    "id": "54TTHdO8lr4m"
   },
   "outputs": [],
   "source": [
    "label_quality = LabelEncoder()"
   ]
  },
  {
   "cell_type": "code",
   "execution_count": 7,
   "metadata": {
    "colab": {},
    "colab_type": "code",
    "executionInfo": {
     "elapsed": 2494,
     "status": "ok",
     "timestamp": 1599654437810,
     "user": {
      "displayName": "Saurabh Jha",
      "photoUrl": "https://lh3.googleusercontent.com/a-/AOh14Gjp2QNyeGkrUCz29EwOWrgZUFsvx_iz83c_m5BSFOI=s64",
      "userId": "08183465477202905608"
     },
     "user_tz": -330
    },
    "id": "Qa0cdyrSmXgI"
   },
   "outputs": [],
   "source": [
    "wine['quality'] = label_quality.fit_transform(wine['quality'])"
   ]
  },
  {
   "cell_type": "code",
   "execution_count": 8,
   "metadata": {
    "colab": {
     "base_uri": "https://localhost:8080/",
     "height": 69
    },
    "colab_type": "code",
    "executionInfo": {
     "elapsed": 2488,
     "status": "ok",
     "timestamp": 1599654437810,
     "user": {
      "displayName": "Saurabh Jha",
      "photoUrl": "https://lh3.googleusercontent.com/a-/AOh14Gjp2QNyeGkrUCz29EwOWrgZUFsvx_iz83c_m5BSFOI=s64",
      "userId": "08183465477202905608"
     },
     "user_tz": -330
    },
    "id": "MDIytUVZmlO_",
    "outputId": "8690361b-e458-4479-a248-8a6a7f34316f"
   },
   "outputs": [
    {
     "data": {
      "text/plain": [
       "0    1382\n",
       "1     217\n",
       "Name: quality, dtype: int64"
      ]
     },
     "execution_count": 8,
     "metadata": {},
     "output_type": "execute_result"
    }
   ],
   "source": [
    "wine['quality'].value_counts()"
   ]
  },
  {
   "cell_type": "code",
   "execution_count": 9,
   "metadata": {
    "colab": {
     "base_uri": "https://localhost:8080/",
     "height": 297
    },
    "colab_type": "code",
    "executionInfo": {
     "elapsed": 2884,
     "status": "ok",
     "timestamp": 1599654438211,
     "user": {
      "displayName": "Saurabh Jha",
      "photoUrl": "https://lh3.googleusercontent.com/a-/AOh14Gjp2QNyeGkrUCz29EwOWrgZUFsvx_iz83c_m5BSFOI=s64",
      "userId": "08183465477202905608"
     },
     "user_tz": -330
    },
    "id": "bvIpCAw_m5wA",
    "outputId": "a0e2d8a1-cb01-4604-f4cf-f30ed18e0c64"
   },
   "outputs": [
    {
     "name": "stderr",
     "output_type": "stream",
     "text": [
      "/var/mobile/Containers/Data/Application/A7BC3B94-22F0-49C9-95BB-380E0B48EAA9/Documents/site-packages/seaborn/_decorators.py:43: FutureWarning: Pass the following variable as a keyword arg: x. From version 0.12, the only valid positional argument will be `data`, and passing other arguments without an explicit keyword will result in an error or misinterpretation.\n",
      "  FutureWarning\n"
     ]
    },
    {
     "data": {
      "text/plain": [
       "<matplotlib.axes._subplots.AxesSubplot at 0x121c2a710>"
      ]
     },
     "execution_count": 9,
     "metadata": {},
     "output_type": "execute_result"
    },
    {
     "data": {
      "image/png": "[encoded data removed]",
      "text/plain": [
       "<Figure size 480x360 with 1 Axes>"
      ]
     },
     "metadata": {
      "image/png": {
       "height": 340,
       "width": 456
      }
     },
     "output_type": "display_data"
    }
   ],
   "source": [
    "sns.countplot(wine['quality'])"
   ]
  },
  {
   "cell_type": "code",
   "execution_count": 10,
   "metadata": {
    "colab": {},
    "colab_type": "code",
    "executionInfo": {
     "elapsed": 2883,
     "status": "ok",
     "timestamp": 1599654438212,
     "user": {
      "displayName": "Saurabh Jha",
      "photoUrl": "https://lh3.googleusercontent.com/a-/AOh14Gjp2QNyeGkrUCz29EwOWrgZUFsvx_iz83c_m5BSFOI=s64",
      "userId": "08183465477202905608"
     },
     "user_tz": -330
    },
    "id": "WJmnoMt0nFne"
   },
   "outputs": [],
   "source": [
    "# Separate the dataset as response variable and feature variables\n",
    "x = wine.drop('quality', axis = 1)\n",
    "y = wine['quality']"
   ]
  },
  {
   "cell_type": "code",
   "execution_count": 11,
   "metadata": {
    "colab": {},
    "colab_type": "code",
    "executionInfo": {
     "elapsed": 2882,
     "status": "ok",
     "timestamp": 1599654438213,
     "user": {
      "displayName": "Saurabh Jha",
      "photoUrl": "https://lh3.googleusercontent.com/a-/AOh14Gjp2QNyeGkrUCz29EwOWrgZUFsvx_iz83c_m5BSFOI=s64",
      "userId": "08183465477202905608"
     },
     "user_tz": -330
    },
    "id": "eQtvMlnind6N"
   },
   "outputs": [],
   "source": [
    "# Train and Test Splitting of Data\n",
    "x_train, x_test, y_train, y_test = train_test_split(x,y,test_size = 0.2,random_state = 42)"
   ]
  },
  {
   "cell_type": "code",
   "execution_count": 12,
   "metadata": {
    "colab": {},
    "colab_type": "code",
    "executionInfo": {
     "elapsed": 2880,
     "status": "ok",
     "timestamp": 1599654438213,
     "user": {
      "displayName": "Saurabh Jha",
      "photoUrl": "https://lh3.googleusercontent.com/a-/AOh14Gjp2QNyeGkrUCz29EwOWrgZUFsvx_iz83c_m5BSFOI=s64",
      "userId": "08183465477202905608"
     },
     "user_tz": -330
    },
    "id": "9qAdw-r0ntKO"
   },
   "outputs": [],
   "source": [
    "# Apply standard scaling to get optimized result\n",
    "sc = StandardScaler()\n",
    "x_train = sc.fit_transform(x_train)\n",
    "x_test = sc.fit_transform(x_test)"
   ]
  },
  {
   "cell_type": "code",
   "execution_count": 13,
   "metadata": {
    "colab": {},
    "colab_type": "code",
    "executionInfo": {
     "elapsed": 3263,
     "status": "ok",
     "timestamp": 1599654438598,
     "user": {
      "displayName": "Saurabh Jha",
      "photoUrl": "https://lh3.googleusercontent.com/a-/AOh14Gjp2QNyeGkrUCz29EwOWrgZUFsvx_iz83c_m5BSFOI=s64",
      "userId": "08183465477202905608"
     },
     "user_tz": -330
    },
    "id": "xWHgQ4y9oaro"
   },
   "outputs": [],
   "source": [
    "# Random Forest Classifier\n",
    "rfc = RandomForestClassifier(n_estimators=200)\n",
    "rfc.fit(x_train, y_train)\n",
    "pred_rfc = rfc.predict(x_test)"
   ]
  },
  {
   "cell_type": "code",
   "execution_count": 14,
   "metadata": {
    "colab": {
     "base_uri": "https://localhost:8080/",
     "height": 0
    },
    "colab_type": "code",
    "executionInfo": {
     "elapsed": 3262,
     "status": "ok",
     "timestamp": 1599654438599,
     "user": {
      "displayName": "Saurabh Jha",
      "photoUrl": "https://lh3.googleusercontent.com/a-/AOh14Gjp2QNyeGkrUCz29EwOWrgZUFsvx_iz83c_m5BSFOI=s64",
      "userId": "08183465477202905608"
     },
     "user_tz": -330
    },
    "id": "-jD3Ndtdp2pk",
    "outputId": "51b8429a-1e0d-4474-8124-1548d708485a"
   },
   "outputs": [
    {
     "name": "stdout",
     "output_type": "stream",
     "text": [
      "[0 0 0 0 0 0 0 0 0 0 1 0 0 0 0 0 0 0 1 0] 803     0\n",
      "124     0\n",
      "350     0\n",
      "682     0\n",
      "1326    0\n",
      "976     0\n",
      "1493    0\n",
      "706     0\n",
      "613     0\n",
      "1587    0\n",
      "513     1\n",
      "1505    0\n",
      "1525    0\n",
      "1568    0\n",
      "220     0\n",
      "1010    1\n",
      "30      0\n",
      "942     1\n",
      "481     1\n",
      "135     0\n",
      "Name: quality, dtype: int64\n"
     ]
    }
   ],
   "source": [
    "print(pred_rfc[:20],y_test[:20])"
   ]
  },
  {
   "cell_type": "code",
   "execution_count": 15,
   "metadata": {
    "colab": {
     "base_uri": "https://localhost:8080/",
     "height": 0
    },
    "colab_type": "code",
    "executionInfo": {
     "elapsed": 3984,
     "status": "ok",
     "timestamp": 1599654439323,
     "user": {
      "displayName": "Saurabh Jha",
      "photoUrl": "https://lh3.googleusercontent.com/a-/AOh14Gjp2QNyeGkrUCz29EwOWrgZUFsvx_iz83c_m5BSFOI=s64",
      "userId": "08183465477202905608"
     },
     "user_tz": -330
    },
    "id": "w56qK2q7p51S",
    "outputId": "25cc937a-0a3a-4528-9868-d1a332fdfbd8"
   },
   "outputs": [
    {
     "name": "stdout",
     "output_type": "stream",
     "text": [
      "              precision    recall  f1-score   support\n",
      "\n",
      "           0       0.90      0.96      0.93       273\n",
      "           1       0.62      0.38      0.47        47\n",
      "\n",
      "    accuracy                           0.88       320\n",
      "   macro avg       0.76      0.67      0.70       320\n",
      "weighted avg       0.86      0.88      0.86       320\n",
      "\n",
      "[[262  11]\n",
      " [ 29  18]]\n"
     ]
    }
   ],
   "source": [
    "print(classification_report(y_test,pred_rfc))\n",
    "print(confusion_matrix(y_test,pred_rfc))"
   ]
  },
  {
   "cell_type": "code",
   "execution_count": 16,
   "metadata": {
    "colab": {},
    "colab_type": "code",
    "executionInfo": {
     "elapsed": 3983,
     "status": "ok",
     "timestamp": 1599654439324,
     "user": {
      "displayName": "Saurabh Jha",
      "photoUrl": "https://lh3.googleusercontent.com/a-/AOh14Gjp2QNyeGkrUCz29EwOWrgZUFsvx_iz83c_m5BSFOI=s64",
      "userId": "08183465477202905608"
     },
     "user_tz": -330
    },
    "id": "OXgBjKdqqWzg"
   },
   "outputs": [],
   "source": [
    "# SVM Classifier\n",
    "clf = svm.SVC()\n",
    "clf.fit(x_train, y_train)\n",
    "pred_clf = clf.predict(x_test)"
   ]
  },
  {
   "cell_type": "code",
   "execution_count": 17,
   "metadata": {
    "colab": {
     "base_uri": "https://localhost:8080/",
     "height": 0
    },
    "colab_type": "code",
    "executionInfo": {
     "elapsed": 3981,
     "status": "ok",
     "timestamp": 1599654439324,
     "user": {
      "displayName": "Saurabh Jha",
      "photoUrl": "https://lh3.googleusercontent.com/a-/AOh14Gjp2QNyeGkrUCz29EwOWrgZUFsvx_iz83c_m5BSFOI=s64",
      "userId": "08183465477202905608"
     },
     "user_tz": -330
    },
    "id": "FUmZLM9tqxss",
    "outputId": "328df07b-bb93-4197-9304-d1d20ee47971"
   },
   "outputs": [
    {
     "name": "stdout",
     "output_type": "stream",
     "text": [
      "              precision    recall  f1-score   support\n",
      "\n",
      "           0       0.88      0.98      0.93       273\n",
      "           1       0.71      0.26      0.37        47\n",
      "\n",
      "    accuracy                           0.88       320\n",
      "   macro avg       0.80      0.62      0.65       320\n",
      "weighted avg       0.86      0.88      0.85       320\n",
      "\n",
      "[[268   5]\n",
      " [ 35  12]]\n"
     ]
    }
   ],
   "source": [
    "print(classification_report(y_test, pred_clf))\n",
    "print(confusion_matrix(y_test,pred_clf))"
   ]
  },
  {
   "cell_type": "code",
   "execution_count": 18,
   "metadata": {
    "colab": {
     "base_uri": "https://localhost:8080/",
     "height": 72
    },
    "colab_type": "code",
    "executionInfo": {
     "elapsed": 6257,
     "status": "ok",
     "timestamp": 1599654441602,
     "user": {
      "displayName": "Saurabh Jha",
      "photoUrl": "https://lh3.googleusercontent.com/a-/AOh14Gjp2QNyeGkrUCz29EwOWrgZUFsvx_iz83c_m5BSFOI=s64",
      "userId": "08183465477202905608"
     },
     "user_tz": -330
    },
    "id": "ZLB2Qx5SrDb2",
    "outputId": "ac452959-4137-454a-85bc-234352d8c647"
   },
   "outputs": [
    {
     "name": "stderr",
     "output_type": "stream",
     "text": [
      "/var/mobile/Containers/Data/Application/A7BC3B94-22F0-49C9-95BB-380E0B48EAA9/Library/Application Support/com.rationalmatter.junoapp/python-home/lib/python3.6/site-packages/sklearn/neural_network/_multilayer_perceptron.py:585: ConvergenceWarning: Stochastic Optimizer: Maximum iterations (500) reached and the optimization hasn't converged yet.\n",
      "  % self.max_iter, ConvergenceWarning)\n"
     ]
    }
   ],
   "source": [
    "# Neural Network\n",
    "mlpc= MLPClassifier(hidden_layer_sizes=(11,11,11), max_iter=500)\n",
    "mlpc.fit(x_train,y_train)\n",
    "pred_mlpc = mlpc.predict(x_test)"
   ]
  },
  {
   "cell_type": "code",
   "execution_count": 19,
   "metadata": {
    "colab": {
     "base_uri": "https://localhost:8080/",
     "height": 208
    },
    "colab_type": "code",
    "executionInfo": {
     "elapsed": 6260,
     "status": "ok",
     "timestamp": 1599654441606,
     "user": {
      "displayName": "Saurabh Jha",
      "photoUrl": "https://lh3.googleusercontent.com/a-/AOh14Gjp2QNyeGkrUCz29EwOWrgZUFsvx_iz83c_m5BSFOI=s64",
      "userId": "08183465477202905608"
     },
     "user_tz": -330
    },
    "id": "xn183DeFr1NW",
    "outputId": "e23ac7e4-0f2f-41da-bc82-fa891f228335"
   },
   "outputs": [
    {
     "name": "stdout",
     "output_type": "stream",
     "text": [
      "              precision    recall  f1-score   support\n",
      "\n",
      "           0       0.90      0.95      0.93       273\n",
      "           1       0.59      0.40      0.48        47\n",
      "\n",
      "    accuracy                           0.87       320\n",
      "   macro avg       0.75      0.68      0.70       320\n",
      "weighted avg       0.86      0.87      0.86       320\n",
      "\n",
      "[[260  13]\n",
      " [ 28  19]]\n"
     ]
    }
   ],
   "source": [
    "print(classification_report(y_test,pred_mlpc))\n",
    "print(confusion_matrix(y_test,pred_mlpc))"
   ]
  },
  {
   "cell_type": "code",
   "execution_count": 20,
   "metadata": {
    "colab": {
     "base_uri": "https://localhost:8080/",
     "height": 322
    },
    "colab_type": "code",
    "executionInfo": {
     "elapsed": 6259,
     "status": "error",
     "timestamp": 1599654441607,
     "user": {
      "displayName": "Saurabh Jha",
      "photoUrl": "https://lh3.googleusercontent.com/a-/AOh14Gjp2QNyeGkrUCz29EwOWrgZUFsvx_iz83c_m5BSFOI=s64",
      "userId": "08183465477202905608"
     },
     "user_tz": -330
    },
    "id": "WhuyqhiYsB1d",
    "outputId": "73266341-aad5-45a5-ed68-953fa0363a9f"
   },
   "outputs": [
    {
     "ename": "ValueError",
     "evalue": "X has 9 features, but this StandardScaler is expecting 11 features as input.",
     "output_type": "error",
     "traceback": [
      "\u001b[0;31m---------------------------------------------------------------------------\u001b[0m",
      "\u001b[0;31mValueError\u001b[0m                                Traceback (most recent call last)",
      "\u001b[0;32m<ipython-input-20-160e0c6b5fc3>\u001b[0m in \u001b[0;36m<module>\u001b[0;34m\u001b[0m\n\u001b[1;32m      1\u001b[0m \u001b[0;31m# Prdict\u001b[0m\u001b[0;34m\u001b[0m\u001b[0;34m\u001b[0m\u001b[0m\n\u001b[1;32m      2\u001b[0m \u001b[0mxnew\u001b[0m \u001b[0;34m=\u001b[0m \u001b[0;34m[\u001b[0m\u001b[0;34m[\u001b[0m\u001b[0;36m2\u001b[0m\u001b[0;34m,\u001b[0m\u001b[0;36m3\u001b[0m\u001b[0;34m,\u001b[0m\u001b[0;36m4\u001b[0m\u001b[0;34m,\u001b[0m\u001b[0;36m5\u001b[0m\u001b[0;34m,\u001b[0m\u001b[0;36m6\u001b[0m\u001b[0;34m,\u001b[0m\u001b[0;36m5\u001b[0m\u001b[0;34m,\u001b[0m\u001b[0;36m6\u001b[0m\u001b[0;34m,\u001b[0m\u001b[0;36m7\u001b[0m\u001b[0;34m,\u001b[0m\u001b[0;36m7\u001b[0m\u001b[0;34m]\u001b[0m\u001b[0;34m]\u001b[0m\u001b[0;34m\u001b[0m\u001b[0m\n\u001b[0;32m----> 3\u001b[0;31m \u001b[0mxnew\u001b[0m \u001b[0;34m=\u001b[0m \u001b[0msc\u001b[0m\u001b[0;34m.\u001b[0m\u001b[0mtransform\u001b[0m\u001b[0;34m(\u001b[0m\u001b[0mxnew\u001b[0m\u001b[0;34m)\u001b[0m\u001b[0;34m\u001b[0m\u001b[0m\n\u001b[0m",
      "\u001b[0;32m/var/mobile/Containers/Data/Application/A7BC3B94-22F0-49C9-95BB-380E0B48EAA9/Library/Application Support/com.rationalmatter.junoapp/python-home/lib/python3.6/site-packages/sklearn/preprocessing/_data.py\u001b[0m in \u001b[0;36mtransform\u001b[0;34m(self, X, copy)\u001b[0m\n\u001b[1;32m    792\u001b[0m                                 \u001b[0maccept_sparse\u001b[0m\u001b[0;34m=\u001b[0m\u001b[0;34m'csr'\u001b[0m\u001b[0;34m,\u001b[0m \u001b[0mcopy\u001b[0m\u001b[0;34m=\u001b[0m\u001b[0mcopy\u001b[0m\u001b[0;34m,\u001b[0m\u001b[0;34m\u001b[0m\u001b[0m\n\u001b[1;32m    793\u001b[0m                                 \u001b[0mestimator\u001b[0m\u001b[0;34m=\u001b[0m\u001b[0mself\u001b[0m\u001b[0;34m,\u001b[0m \u001b[0mdtype\u001b[0m\u001b[0;34m=\u001b[0m\u001b[0mFLOAT_DTYPES\u001b[0m\u001b[0;34m,\u001b[0m\u001b[0;34m\u001b[0m\u001b[0m\n\u001b[0;32m--> 794\u001b[0;31m                                 force_all_finite='allow-nan')\n\u001b[0m\u001b[1;32m    795\u001b[0m \u001b[0;34m\u001b[0m\u001b[0m\n\u001b[1;32m    796\u001b[0m         \u001b[0;32mif\u001b[0m \u001b[0msparse\u001b[0m\u001b[0;34m.\u001b[0m\u001b[0missparse\u001b[0m\u001b[0;34m(\u001b[0m\u001b[0mX\u001b[0m\u001b[0;34m)\u001b[0m\u001b[0;34m:\u001b[0m\u001b[0;34m\u001b[0m\u001b[0m\n",
      "\u001b[0;32m/var/mobile/Containers/Data/Application/A7BC3B94-22F0-49C9-95BB-380E0B48EAA9/Library/Application Support/com.rationalmatter.junoapp/python-home/lib/python3.6/site-packages/sklearn/base.py\u001b[0m in \u001b[0;36m_validate_data\u001b[0;34m(self, X, y, reset, validate_separately, **check_params)\u001b[0m\n\u001b[1;32m    434\u001b[0m \u001b[0;34m\u001b[0m\u001b[0m\n\u001b[1;32m    435\u001b[0m         \u001b[0;32mif\u001b[0m \u001b[0mcheck_params\u001b[0m\u001b[0;34m.\u001b[0m\u001b[0mget\u001b[0m\u001b[0;34m(\u001b[0m\u001b[0;34m'ensure_2d'\u001b[0m\u001b[0;34m,\u001b[0m \u001b[0;32mTrue\u001b[0m\u001b[0;34m)\u001b[0m\u001b[0;34m:\u001b[0m\u001b[0;34m\u001b[0m\u001b[0m\n\u001b[0;32m--> 436\u001b[0;31m             \u001b[0mself\u001b[0m\u001b[0;34m.\u001b[0m\u001b[0m_check_n_features\u001b[0m\u001b[0;34m(\u001b[0m\u001b[0mX\u001b[0m\u001b[0;34m,\u001b[0m \u001b[0mreset\u001b[0m\u001b[0;34m=\u001b[0m\u001b[0mreset\u001b[0m\u001b[0;34m)\u001b[0m\u001b[0;34m\u001b[0m\u001b[0m\n\u001b[0m\u001b[1;32m    437\u001b[0m \u001b[0;34m\u001b[0m\u001b[0m\n\u001b[1;32m    438\u001b[0m         \u001b[0;32mreturn\u001b[0m \u001b[0mout\u001b[0m\u001b[0;34m\u001b[0m\u001b[0m\n",
      "\u001b[0;32m/var/mobile/Containers/Data/Application/A7BC3B94-22F0-49C9-95BB-380E0B48EAA9/Library/Application Support/com.rationalmatter.junoapp/python-home/lib/python3.6/site-packages/sklearn/base.py\u001b[0m in \u001b[0;36m_check_n_features\u001b[0;34m(self, X, reset)\u001b[0m\n\u001b[1;32m    378\u001b[0m                     \u001b[0;34m'X has {} features, but this {} is expecting {} features '\u001b[0m\u001b[0;34m\u001b[0m\u001b[0m\n\u001b[1;32m    379\u001b[0m                     'as input.'.format(n_features, self.__class__.__name__,\n\u001b[0;32m--> 380\u001b[0;31m                                        self.n_features_in_)\n\u001b[0m\u001b[1;32m    381\u001b[0m                 )\n\u001b[1;32m    382\u001b[0m \u001b[0;34m\u001b[0m\u001b[0m\n",
      "\u001b[0;31mValueError\u001b[0m: X has 9 features, but this StandardScaler is expecting 11 features as input."
     ]
    }
   ],
   "source": [
    "# Prdict\n",
    "xnew = [[2,3,4,5,6,5,6,7,7]]\n",
    "xnew = sc.transform(xnew)"
   ]
  },
  {
   "cell_type": "code",
   "execution_count": 21,
   "metadata": {},
   "outputs": [
    {
     "name": "stdout",
     "output_type": "stream",
     "text": [
      "Note: you may need to restart the kernel to use updated packages.\n"
     ]
    },
    {
     "name": "stderr",
     "output_type": "stream",
     "text": [
      " Shell commands are disabled in Juno.\n"
     ]
    }
   ],
   "source": [
    "pip freeze > requirements.txt"
   ]
  },
  {
   "cell_type": "code",
   "execution_count": null,
   "metadata": {},
   "outputs": [],
   "source": []
  }
 ],
 "metadata": {
  "colab": {
   "authorship_tag": "ABX9TyOozTOl8m3SgH0qzjhe/ILI",
   "collapsed_sections": [],
   "mount_file_id": "1Q-E6tzKUyXSVB4Mjz3SJ3owVSJqtzgM8",
   "name": "sciklit-learn_tutorial_red_wine.ipynb",
   "provenance": []
  },
  "kernelspec": {
   "display_name": "Python 3",
   "language": "python",
   "name": "python3"
  },
  "language_info": {
   "codemirror_mode": {
    "name": "ipython",
    "version": 3
   },
   "file_extension": ".py",
   "mimetype": "text/x-python",
   "name": "python",
   "nbconvert_exporter": "python",
   "pygments_lexer": "ipython3",
   "version": "3.6.6+"
  }
 },
 "nbformat": 4,
 "nbformat_minor": 1
}
